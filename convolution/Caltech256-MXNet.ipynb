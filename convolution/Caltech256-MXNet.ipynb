{
 "cells": [
  {
   "cell_type": "code",
   "execution_count": 1,
   "metadata": {
    "collapsed": true
   },
   "outputs": [],
   "source": [
    "import mxnet as mx\n",
    "import os\n",
    "import random\n",
    "from mxnet.image import ImageIter"
   ]
  },
  {
   "cell_type": "code",
   "execution_count": 2,
   "metadata": {
    "collapsed": true
   },
   "outputs": [],
   "source": [
    "data_dir = \"./data/Caltech256/\""
   ]
  },
  {
   "cell_type": "code",
   "execution_count": 3,
   "metadata": {},
   "outputs": [
    {
     "name": "stdout",
     "output_type": "stream",
     "text": [
      "  % Total    % Received % Xferd  Average Speed   Time    Time     Time  Current\n",
      "                                 Dload  Upload   Total   Spent    Left  Speed\n",
      "100 13352  100 13352    0     0  47233      0 --:--:-- --:--:-- --:--:-- 53195\n"
     ]
    }
   ],
   "source": [
    "!curl -O https://raw.githubusercontent.com/dmlc/mxnet/master/tools/im2rec.py"
   ]
  },
  {
   "cell_type": "code",
   "execution_count": 4,
   "metadata": {},
   "outputs": [
    {
     "name": "stderr",
     "output_type": "stream",
     "text": [
      "ERROR:root:File `'im2rec.py --list=true.py'` not found.\n"
     ]
    }
   ],
   "source": [
    "%run -i 'im2rec.py --list=true'"
   ]
  },
  {
   "cell_type": "code",
   "execution_count": 3,
   "metadata": {
    "collapsed": true
   },
   "outputs": [],
   "source": [
    "def list_image(root, recursive, exts):\n",
    "    image_list = []\n",
    "    i = 0\n",
    "    if recursive:\n",
    "        cat = {}\n",
    "        for path, subdirs, files in os.walk(root):\n",
    "            for fname in files:\n",
    "                fpath = os.path.join(path, fname)\n",
    "                suffix = os.path.splitext(fname)[1].lower()\n",
    "                if os.path.isfile(fpath) and (suffix in exts):\n",
    "                    if path not in cat:\n",
    "                        label = path.split(\"/\")[-1]\n",
    "                        cat[path] = int(label) #use the last digit as the class ID#print cat[path]\n",
    "                    image_list.append((i, os.path.relpath(fpath, root), cat[path]))\n",
    "                    i += 1\n",
    "    else:\n",
    "        for fname in os.listdir(root):\n",
    "            fpath = os.path.join(root, fname)\n",
    "            suffix = os.path.splitext(fname)[1].lower()\n",
    "            if os.path.isfile(fpath) and (suffix in exts):\n",
    "                image_list.append((i, os.path.relpath(fpath, root), 0))\n",
    "                i += 1\n",
    "    return image_list\n",
    "def make_list(image_list, shuffle=True, chunks=1, prefix=\"pre\", train_ratio=0.65, test_ratio=0.2):\n",
    "#     image_list = list_image(args.root, args.recursive, args.exts)\n",
    "#     image_list = list(image_list)\n",
    "    if shuffle is True:\n",
    "        random.seed(100)\n",
    "        random.shuffle(image_list)\n",
    "    N = len(image_list)\n",
    "    chunk_size = (N + chunks - 1) // chunks\n",
    "    for i in range(chunks):\n",
    "        chunk = image_list[i * chunk_size:(i + 1) * chunk_size]\n",
    "        if chunks > 1:\n",
    "            str_chunk = '_%d' % i\n",
    "        else:\n",
    "            str_chunk = ''\n",
    "        sep = int(chunk_size * train_ratio)\n",
    "        sep_test = int(chunk_size * test_ratio)\n",
    "        if train_ratio == 1.0:\n",
    "            write_list(prefix + str_chunk + '.lst', chunk)\n",
    "        else:\n",
    "            if test_ratio:\n",
    "                write_list(prefix + str_chunk + '_test.lst', chunk[:sep_test])\n",
    "            if train_ratio + test_ratio < 1.0:\n",
    "                write_list(prefix + str_chunk + '_val.lst', chunk[sep_test + sep:])\n",
    "            write_list(prefix + str_chunk + '_train.lst', chunk[sep_test:sep_test + sep])\n",
    "def write_list(path_out, image_list):\n",
    "    with open(path_out, 'w') as fout:\n",
    "        print(path_out)\n",
    "        for i, item in enumerate(image_list):\n",
    "            line = '%d\\t' % item[0]\n",
    "            for j in item[2:]:\n",
    "                line += '%f\\t' % j\n",
    "            line += '%s\\n' % item[1]\n",
    "            fout.write(line)"
   ]
  },
  {
   "cell_type": "code",
   "execution_count": 4,
   "metadata": {},
   "outputs": [
    {
     "name": "stdout",
     "output_type": "stream",
     "text": [
      "/home/ec2-user/learn-dl/convolution\r\n"
     ]
    }
   ],
   "source": [
    "!pwd"
   ]
  },
  {
   "cell_type": "code",
   "execution_count": 5,
   "metadata": {
    "collapsed": true
   },
   "outputs": [],
   "source": [
    "img_list = list_image(\"data/Caltech256/\", True, ['.jpg', '.jpeg'])"
   ]
  },
  {
   "cell_type": "code",
   "execution_count": 6,
   "metadata": {},
   "outputs": [
    {
     "name": "stdout",
     "output_type": "stream",
     "text": [
      "/home/ec2-user/learn-dl/convolution\r\n"
     ]
    }
   ],
   "source": [
    "!pwd"
   ]
  },
  {
   "cell_type": "code",
   "execution_count": 10,
   "metadata": {},
   "outputs": [
    {
     "name": "stdout",
     "output_type": "stream",
     "text": [
      "/home/ec2-user/learn-dl/convolution/data\n"
     ]
    }
   ],
   "source": [
    "%cd learn-dl/convolution/data/"
   ]
  },
  {
   "cell_type": "code",
   "execution_count": 11,
   "metadata": {},
   "outputs": [
    {
     "name": "stdout",
     "output_type": "stream",
     "text": [
      "pre_test.lst\n",
      "pre_val.lst\n",
      "pre_train.lst\n"
     ]
    }
   ],
   "source": [
    "make_list(img_list)"
   ]
  },
  {
   "cell_type": "code",
   "execution_count": 18,
   "metadata": {},
   "outputs": [
    {
     "name": "stdout",
     "output_type": "stream",
     "text": [
      "loading image list...\n"
     ]
    }
   ],
   "source": [
    "img_iter = ImageIter(batch_size=4, data_shape=(3, 224, 224), label_width=1, path_imglist=\"pre_test.lst\", path_root=\"data/Caltech256/\")"
   ]
  },
  {
   "cell_type": "code",
   "execution_count": 19,
   "metadata": {
    "collapsed": true
   },
   "outputs": [],
   "source": [
    "import os, urllib\n",
    "def download(url):\n",
    "    filename = url.split(\"/\")[-1]\n",
    "    if not os.path.exists(filename):\n",
    "        urllib.urlretrieve(url, filename)"
   ]
  },
  {
   "cell_type": "code",
   "execution_count": 21,
   "metadata": {},
   "outputs": [
    {
     "name": "stdout",
     "output_type": "stream",
     "text": [
      "/home/ec2-user/learn-dl/convolution\r\n"
     ]
    }
   ],
   "source": [
    "!pwd"
   ]
  },
  {
   "cell_type": "code",
   "execution_count": 22,
   "metadata": {},
   "outputs": [
    {
     "name": "stdout",
     "output_type": "stream",
     "text": [
      "--2017-07-03 18:42:08--  http://data.mxnet.io/models/imagenet/vgg/vgg16-0000.params\n",
      "Resolving data.mxnet.io (data.mxnet.io)... 54.208.175.7\n",
      "Connecting to data.mxnet.io (data.mxnet.io)|54.208.175.7|:80... connected.\n",
      "HTTP request sent, awaiting response... 200 OK\n",
      "Length: 553431792 (528M)\n",
      "Saving to: ‘vgg16-0000.params’\n",
      "\n",
      "vgg16-0000.params   100%[===================>] 527.79M  11.3MB/s    in 42s     \n",
      "\n",
      "2017-07-03 18:42:50 (12.5 MB/s) - ‘vgg16-0000.params’ saved [553431792/553431792]\n",
      "\n",
      "--2017-07-03 18:42:50--  http://data.mxnet.io/models/imagenet/vgg/vgg16-symbol.json\n",
      "Resolving data.mxnet.io (data.mxnet.io)... 54.208.175.7\n",
      "Connecting to data.mxnet.io (data.mxnet.io)|54.208.175.7|:80... connected.\n",
      "HTTP request sent, awaiting response... 200 OK\n",
      "Length: 16554 (16K) [application/json]\n",
      "Saving to: ‘vgg16-symbol.json’\n",
      "\n",
      "vgg16-symbol.json   100%[===================>]  16.17K  --.-KB/s    in 0.08s   \n",
      "\n",
      "2017-07-03 18:42:51 (198 KB/s) - ‘vgg16-symbol.json’ saved [16554/16554]\n",
      "\n"
     ]
    }
   ],
   "source": [
    "!wget \"http://data.mxnet.io/models/imagenet/vgg/vgg16-0000.params\"\n",
    "!wget \"http://data.mxnet.io/models/imagenet/vgg/vgg16-symbol.json\""
   ]
  },
  {
   "cell_type": "code",
   "execution_count": 26,
   "metadata": {},
   "outputs": [],
   "source": [
    "sym, arg_params, aux_params = mx.model.load_checkpoint('vgg16', 0)"
   ]
  },
  {
   "cell_type": "code",
   "execution_count": 40,
   "metadata": {
    "collapsed": true
   },
   "outputs": [],
   "source": [
    "all_layers = sym.get_internals()"
   ]
  },
  {
   "cell_type": "code",
   "execution_count": 69,
   "metadata": {},
   "outputs": [],
   "source": [
    "tmp = all_layers['prob_label']"
   ]
  },
  {
   "cell_type": "code",
   "execution_count": 70,
   "metadata": {},
   "outputs": [],
   "source": [
    "tmp.get_children()"
   ]
  },
  {
   "cell_type": "code",
   "execution_count": 58,
   "metadata": {},
   "outputs": [
    {
     "ename": "ValueError",
     "evalue": "Cannot find output that matches name \"fc8\"",
     "output_type": "error",
     "traceback": [
      "\u001b[0;31m---------------------------------------------------------------------------\u001b[0m",
      "\u001b[0;31mValueError\u001b[0m                                Traceback (most recent call last)",
      "\u001b[0;32m<ipython-input-58-bfdcc13d995e>\u001b[0m in \u001b[0;36m<module>\u001b[0;34m()\u001b[0m\n\u001b[0;32m----> 1\u001b[0;31m \u001b[0mnet\u001b[0m \u001b[0;34m=\u001b[0m \u001b[0mall_layers\u001b[0m\u001b[0;34m[\u001b[0m\u001b[0;34m'fc8'\u001b[0m\u001b[0;34m]\u001b[0m\u001b[0;34m\u001b[0m\u001b[0m\n\u001b[0m\u001b[1;32m      2\u001b[0m \u001b[0mnet\u001b[0m \u001b[0;34m=\u001b[0m \u001b[0mmx\u001b[0m\u001b[0;34m.\u001b[0m\u001b[0msymbol\u001b[0m\u001b[0;34m.\u001b[0m\u001b[0mFullyConnected\u001b[0m\u001b[0;34m(\u001b[0m\u001b[0mdata\u001b[0m\u001b[0;34m=\u001b[0m\u001b[0mnet\u001b[0m\u001b[0;34m,\u001b[0m \u001b[0mnum_hidden\u001b[0m\u001b[0;34m=\u001b[0m\u001b[0;36m257\u001b[0m\u001b[0;34m,\u001b[0m \u001b[0mname\u001b[0m\u001b[0;34m=\u001b[0m\u001b[0;34m'out'\u001b[0m\u001b[0;34m)\u001b[0m\u001b[0;34m\u001b[0m\u001b[0m\n\u001b[1;32m      3\u001b[0m \u001b[0mnet\u001b[0m \u001b[0;34m=\u001b[0m \u001b[0mmx\u001b[0m\u001b[0;34m.\u001b[0m\u001b[0msymbol\u001b[0m\u001b[0;34m.\u001b[0m\u001b[0mSoftmaxOutput\u001b[0m\u001b[0;34m(\u001b[0m\u001b[0mdata\u001b[0m\u001b[0;34m=\u001b[0m\u001b[0mnet\u001b[0m\u001b[0;34m,\u001b[0m \u001b[0mname\u001b[0m\u001b[0;34m=\u001b[0m\u001b[0;34m'softmax'\u001b[0m\u001b[0;34m)\u001b[0m\u001b[0;34m\u001b[0m\u001b[0m\n\u001b[1;32m      4\u001b[0m \u001b[0mnew_args\u001b[0m \u001b[0;34m=\u001b[0m \u001b[0mdict\u001b[0m\u001b[0;34m(\u001b[0m\u001b[0;34m{\u001b[0m\u001b[0mk\u001b[0m\u001b[0;34m:\u001b[0m \u001b[0marg_params\u001b[0m\u001b[0;34m[\u001b[0m\u001b[0mk\u001b[0m\u001b[0;34m]\u001b[0m \u001b[0;32mfor\u001b[0m \u001b[0mk\u001b[0m \u001b[0;32min\u001b[0m \u001b[0marg_params\u001b[0m \u001b[0;32mif\u001b[0m \u001b[0;34m'out'\u001b[0m \u001b[0;32mnot\u001b[0m \u001b[0;32min\u001b[0m \u001b[0mk\u001b[0m\u001b[0;34m}\u001b[0m\u001b[0;34m)\u001b[0m\u001b[0;34m\u001b[0m\u001b[0m\n",
      "\u001b[0;32m~/anaconda3/envs/dl3/lib/python3.5/site-packages/mxnet/symbol.py\u001b[0m in \u001b[0;36m__getitem__\u001b[0;34m(self, index)\u001b[0m\n\u001b[1;32m    440\u001b[0m                     \u001b[0midx\u001b[0m \u001b[0;34m=\u001b[0m \u001b[0mi\u001b[0m\u001b[0;34m\u001b[0m\u001b[0m\n\u001b[1;32m    441\u001b[0m             \u001b[0;32mif\u001b[0m \u001b[0midx\u001b[0m \u001b[0;32mis\u001b[0m \u001b[0;32mNone\u001b[0m\u001b[0;34m:\u001b[0m\u001b[0;34m\u001b[0m\u001b[0m\n\u001b[0;32m--> 442\u001b[0;31m                 \u001b[0;32mraise\u001b[0m \u001b[0mValueError\u001b[0m\u001b[0;34m(\u001b[0m\u001b[0;34m'Cannot find output that matches name \\\"%s\\\"'\u001b[0m \u001b[0;34m%\u001b[0m \u001b[0mindex\u001b[0m\u001b[0;34m)\u001b[0m\u001b[0;34m\u001b[0m\u001b[0m\n\u001b[0m\u001b[1;32m    443\u001b[0m             \u001b[0mindex\u001b[0m \u001b[0;34m=\u001b[0m \u001b[0midx\u001b[0m\u001b[0;34m\u001b[0m\u001b[0m\n\u001b[1;32m    444\u001b[0m         \u001b[0;32mif\u001b[0m \u001b[0;32mnot\u001b[0m \u001b[0misinstance\u001b[0m\u001b[0;34m(\u001b[0m\u001b[0mindex\u001b[0m\u001b[0;34m,\u001b[0m \u001b[0mint\u001b[0m\u001b[0;34m)\u001b[0m\u001b[0;34m:\u001b[0m\u001b[0;34m\u001b[0m\u001b[0m\n",
      "\u001b[0;31mValueError\u001b[0m: Cannot find output that matches name \"fc8\""
     ]
    }
   ],
   "source": [
    "net = all_layers['fc8']\n",
    "net = mx.symbol.FullyConnected(data=net, num_hidden=257, name='out')\n",
    "net = mx.symbol.SoftmaxOutput(data=net, name='softmax')\n",
    "new_args = dict({k: arg_params[k] for k in arg_params if 'out' not in k})"
   ]
  },
  {
   "cell_type": "code",
   "execution_count": 44,
   "metadata": {},
   "outputs": [
    {
     "name": "stdout",
     "output_type": "stream",
     "text": [
      "loading image list...\n",
      "loading image list...\n"
     ]
    }
   ],
   "source": [
    "train_iter = ImageIter(batch_size=32, data_shape=(3, 224, 224), label_width=1, path_imglist=\"pre_train.lst\", path_root=\"data/Caltech256/\")\n",
    "val_iter = ImageIter(batch_size=32, data_shape=(3, 224, 224), label_width=1, path_imglist=\"pre_val.lst\", path_root=\"data/Caltech256/\")"
   ]
  },
  {
   "cell_type": "code",
   "execution_count": 54,
   "metadata": {},
   "outputs": [
    {
     "data": {
      "text/plain": [
       "<Symbol group [fc8_weight, out_weight, out_bias, out, softmax_label, softmax]>"
      ]
     },
     "execution_count": 54,
     "metadata": {},
     "output_type": "execute_result"
    }
   ],
   "source": [
    "net.get_internals()"
   ]
  },
  {
   "cell_type": "code",
   "execution_count": 50,
   "metadata": {
    "collapsed": true
   },
   "outputs": [],
   "source": [
    "mx.mod.Module?"
   ]
  },
  {
   "cell_type": "code",
   "execution_count": 49,
   "metadata": {},
   "outputs": [
    {
     "ename": "ValueError",
     "evalue": "\u001b[91mYou created Module with Module(..., data_names=['data']) but input with name 'data' is not found in symbol.list_arguments(). Did you mean one of:\n\tsoftmax_label\u001b[0m",
     "output_type": "error",
     "traceback": [
      "\u001b[0;31m---------------------------------------------------------------------------\u001b[0m",
      "\u001b[0;31mValueError\u001b[0m                                Traceback (most recent call last)",
      "\u001b[0;32m<ipython-input-49-e916f588681c>\u001b[0m in \u001b[0;36m<module>\u001b[0;34m()\u001b[0m\n\u001b[0;32m----> 1\u001b[0;31m \u001b[0mmod\u001b[0m \u001b[0;34m=\u001b[0m \u001b[0mmx\u001b[0m\u001b[0;34m.\u001b[0m\u001b[0mmod\u001b[0m\u001b[0;34m.\u001b[0m\u001b[0mModule\u001b[0m\u001b[0;34m(\u001b[0m\u001b[0msymbol\u001b[0m\u001b[0;34m=\u001b[0m\u001b[0mnet\u001b[0m\u001b[0;34m,\u001b[0m \u001b[0mcontext\u001b[0m\u001b[0;34m=\u001b[0m\u001b[0;34m[\u001b[0m\u001b[0mmx\u001b[0m\u001b[0;34m.\u001b[0m\u001b[0mgpu\u001b[0m\u001b[0;34m(\u001b[0m\u001b[0;36m0\u001b[0m\u001b[0;34m)\u001b[0m\u001b[0;34m]\u001b[0m\u001b[0;34m)\u001b[0m\u001b[0;34m\u001b[0m\u001b[0m\n\u001b[0m",
      "\u001b[0;32m~/anaconda3/envs/dl3/lib/python3.5/site-packages/mxnet/module/module.py\u001b[0m in \u001b[0;36m__init__\u001b[0;34m(self, symbol, data_names, label_names, logger, context, work_load_list, fixed_param_names, state_names)\u001b[0m\n\u001b[1;32m     63\u001b[0m         \u001b[0mfixed_param_names\u001b[0m \u001b[0;34m=\u001b[0m \u001b[0mlist\u001b[0m\u001b[0;34m(\u001b[0m\u001b[0mfixed_param_names\u001b[0m\u001b[0;34m)\u001b[0m \u001b[0;32mif\u001b[0m \u001b[0mfixed_param_names\u001b[0m \u001b[0;32mis\u001b[0m \u001b[0;32mnot\u001b[0m \u001b[0;32mNone\u001b[0m \u001b[0;32melse\u001b[0m \u001b[0;34m[\u001b[0m\u001b[0;34m]\u001b[0m\u001b[0;34m\u001b[0m\u001b[0m\n\u001b[1;32m     64\u001b[0m \u001b[0;34m\u001b[0m\u001b[0m\n\u001b[0;32m---> 65\u001b[0;31m         \u001b[0m_check_input_names\u001b[0m\u001b[0;34m(\u001b[0m\u001b[0msymbol\u001b[0m\u001b[0;34m,\u001b[0m \u001b[0mdata_names\u001b[0m\u001b[0;34m,\u001b[0m \u001b[0;34m\"data\"\u001b[0m\u001b[0;34m,\u001b[0m \u001b[0;32mTrue\u001b[0m\u001b[0;34m)\u001b[0m\u001b[0;34m\u001b[0m\u001b[0m\n\u001b[0m\u001b[1;32m     66\u001b[0m         \u001b[0m_check_input_names\u001b[0m\u001b[0;34m(\u001b[0m\u001b[0msymbol\u001b[0m\u001b[0;34m,\u001b[0m \u001b[0mlabel_names\u001b[0m\u001b[0;34m,\u001b[0m \u001b[0;34m\"label\"\u001b[0m\u001b[0;34m,\u001b[0m \u001b[0;32mFalse\u001b[0m\u001b[0;34m)\u001b[0m\u001b[0;34m\u001b[0m\u001b[0m\n\u001b[1;32m     67\u001b[0m         \u001b[0m_check_input_names\u001b[0m\u001b[0;34m(\u001b[0m\u001b[0msymbol\u001b[0m\u001b[0;34m,\u001b[0m \u001b[0mstate_names\u001b[0m\u001b[0;34m,\u001b[0m \u001b[0;34m\"state\"\u001b[0m\u001b[0;34m,\u001b[0m \u001b[0;32mTrue\u001b[0m\u001b[0;34m)\u001b[0m\u001b[0;34m\u001b[0m\u001b[0m\n",
      "\u001b[0;32m~/anaconda3/envs/dl3/lib/python3.5/site-packages/mxnet/module/base_module.py\u001b[0m in \u001b[0;36m_check_input_names\u001b[0;34m(symbol, names, typename, throw)\u001b[0m\n\u001b[1;32m     48\u001b[0m                   typename, str(names), name, '\\n\\t'.join(candidates))\n\u001b[1;32m     49\u001b[0m         \u001b[0;32mif\u001b[0m \u001b[0mthrow\u001b[0m\u001b[0;34m:\u001b[0m\u001b[0;34m\u001b[0m\u001b[0m\n\u001b[0;32m---> 50\u001b[0;31m             \u001b[0;32mraise\u001b[0m \u001b[0mValueError\u001b[0m\u001b[0;34m(\u001b[0m\u001b[0mmsg\u001b[0m\u001b[0;34m)\u001b[0m\u001b[0;34m\u001b[0m\u001b[0m\n\u001b[0m\u001b[1;32m     51\u001b[0m         \u001b[0;32melse\u001b[0m\u001b[0;34m:\u001b[0m\u001b[0;34m\u001b[0m\u001b[0m\n\u001b[1;32m     52\u001b[0m             \u001b[0mwarnings\u001b[0m\u001b[0;34m.\u001b[0m\u001b[0mwarn\u001b[0m\u001b[0;34m(\u001b[0m\u001b[0mmsg\u001b[0m\u001b[0;34m)\u001b[0m\u001b[0;34m\u001b[0m\u001b[0m\n",
      "\u001b[0;31mValueError\u001b[0m: \u001b[91mYou created Module with Module(..., data_names=['data']) but input with name 'data' is not found in symbol.list_arguments(). Did you mean one of:\n\tsoftmax_label\u001b[0m"
     ]
    }
   ],
   "source": [
    "mod = mx.mod.Module(symbol=net, context=[mx.gpu(0)])"
   ]
  },
  {
   "cell_type": "code",
   "execution_count": 48,
   "metadata": {},
   "outputs": [
    {
     "data": {
      "text/plain": [
       "<Symbol softmax>"
      ]
     },
     "execution_count": 48,
     "metadata": {},
     "output_type": "execute_result"
    }
   ],
   "source": [
    "net"
   ]
  },
  {
   "cell_type": "code",
   "execution_count": null,
   "metadata": {
    "collapsed": true
   },
   "outputs": [],
   "source": []
  }
 ],
 "metadata": {
  "anaconda-cloud": {},
  "kernelspec": {
   "display_name": "Python [conda env:dl3]",
   "language": "python",
   "name": "conda-env-dl3-py"
  },
  "language_info": {
   "codemirror_mode": {
    "name": "ipython",
    "version": 3
   },
   "file_extension": ".py",
   "mimetype": "text/x-python",
   "name": "python",
   "nbconvert_exporter": "python",
   "pygments_lexer": "ipython3",
   "version": "3.5.3"
  }
 },
 "nbformat": 4,
 "nbformat_minor": 2
}
