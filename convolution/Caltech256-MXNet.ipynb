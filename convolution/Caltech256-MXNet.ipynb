{
 "cells": [
  {
   "cell_type": "code",
   "execution_count": 3,
   "metadata": {
    "collapsed": true
   },
   "outputs": [],
   "source": [
    "import mxnet as mx\n",
    "import os\n",
    "import random\n",
    "from mxnet.image import ImageIter"
   ]
  },
  {
   "cell_type": "code",
   "execution_count": 2,
   "metadata": {
    "collapsed": true
   },
   "outputs": [],
   "source": [
    "data_dir = \"./data/Caltech256/\""
   ]
  },
  {
   "cell_type": "code",
   "execution_count": 4,
   "metadata": {},
   "outputs": [
    {
     "name": "stdout",
     "output_type": "stream",
     "text": [
      "  % Total    % Received % Xferd  Average Speed   Time    Time     Time  Current\n",
      "                                 Dload  Upload   Total   Spent    Left  Speed\n",
      "100 13176  100 13176    0     0  53823      0 --:--:-- --:--:-- --:--:-- 62150\n"
     ]
    }
   ],
   "source": [
    "!curl -O https://raw.githubusercontent.com/dmlc/mxnet/master/tools/im2rec.py"
   ]
  },
  {
   "cell_type": "code",
   "execution_count": 5,
   "metadata": {},
   "outputs": [
    {
     "name": "stderr",
     "output_type": "stream",
     "text": [
      "ERROR:root:File `'im2rec.py --list=true.py'` not found.\n"
     ]
    }
   ],
   "source": [
    "%run -i 'im2rec.py --list=true'"
   ]
  },
  {
   "cell_type": "code",
   "execution_count": null,
   "metadata": {
    "collapsed": true
   },
   "outputs": [],
   "source": []
  },
  {
   "cell_type": "code",
   "execution_count": 19,
   "metadata": {
    "collapsed": true
   },
   "outputs": [],
   "source": [
    "def list_image(root, recursive, exts):\n",
    "    image_list = []\n",
    "    i = 0\n",
    "    if recursive:\n",
    "        cat = {}\n",
    "        for path, subdirs, files in os.walk(root):\n",
    "            for fname in files:\n",
    "                fpath = os.path.join(path, fname)\n",
    "                suffix = os.path.splitext(fname)[1].lower()\n",
    "                if os.path.isfile(fpath) and (suffix in exts):\n",
    "                    if path not in cat:\n",
    "                        label = path.split(\"/\")[-1]\n",
    "                        cat[path] = int(label) #use the last digit as the class ID#print cat[path]\n",
    "                    image_list.append((i, os.path.relpath(fpath, root), cat[path]))\n",
    "                    i += 1\n",
    "    else:\n",
    "        for fname in os.listdir(root):\n",
    "            fpath = os.path.join(root, fname)\n",
    "            suffix = os.path.splitext(fname)[1].lower()\n",
    "            if os.path.isfile(fpath) and (suffix in exts):\n",
    "                image_list.append((i, os.path.relpath(fpath, root), 0))\n",
    "                i += 1\n",
    "    return image_list\n",
    "def make_list(image_list, shuffle=True, chunks=1, prefix=\"pre\", train_ratio=0.65, test_ratio=0.2):\n",
    "#     image_list = list_image(args.root, args.recursive, args.exts)\n",
    "#     image_list = list(image_list)\n",
    "    if shuffle is True:\n",
    "        random.seed(100)\n",
    "        random.shuffle(image_list)\n",
    "    N = len(image_list)\n",
    "    chunk_size = (N + chunks - 1) // chunks\n",
    "    for i in range(chunks):\n",
    "        chunk = image_list[i * chunk_size:(i + 1) * chunk_size]\n",
    "        if chunks > 1:\n",
    "            str_chunk = '_%d' % i\n",
    "        else:\n",
    "            str_chunk = ''\n",
    "        sep = int(chunk_size * train_ratio)\n",
    "        sep_test = int(chunk_size * test_ratio)\n",
    "        if train_ratio == 1.0:\n",
    "            write_list(prefix + str_chunk + '.lst', chunk)\n",
    "        else:\n",
    "            if test_ratio:\n",
    "                write_list(prefix + str_chunk + '_test.lst', chunk[:sep_test])\n",
    "            if train_ratio + test_ratio < 1.0:\n",
    "                write_list(prefix + str_chunk + '_val.lst', chunk[sep_test + sep:])\n",
    "            write_list(prefix + str_chunk + '_train.lst', chunk[sep_test:sep_test + sep])\n",
    "def write_list(path_out, image_list):\n",
    "    with open(path_out, 'w') as fout:\n",
    "        for i, item in enumerate(image_list):\n",
    "            line = '%d\\t' % item[0]\n",
    "            for j in item[2:]:\n",
    "                line += '%f\\t' % j\n",
    "            line += '%s\\n' % item[1]\n",
    "            fout.write(line)"
   ]
  },
  {
   "cell_type": "code",
   "execution_count": 20,
   "metadata": {},
   "outputs": [],
   "source": [
    "img_list = list_image(\"data/Caltech256/\", True, ['.jpg', '.jpeg'])"
   ]
  },
  {
   "cell_type": "code",
   "execution_count": 21,
   "metadata": {},
   "outputs": [],
   "source": [
    "make_list(img_list)"
   ]
  },
  {
   "cell_type": "code",
   "execution_count": 31,
   "metadata": {},
   "outputs": [
    {
     "name": "stdout",
     "output_type": "stream",
     "text": [
      "loading image list...\n"
     ]
    }
   ],
   "source": [
    "img_iter = ImageIter(batch_size=4, data_shape=(3, 224, 224), label_width=1, path_imglist=\"data/pre_test.lst\", path_root=\"data/Caltech256/\")"
   ]
  },
  {
   "cell_type": "code",
   "execution_count": 33,
   "metadata": {},
   "outputs": [],
   "source": [
    "batch = next(img_iter)"
   ]
  },
  {
   "cell_type": "code",
   "execution_count": 36,
   "metadata": {},
   "outputs": [],
   "source": [
    "data = batch.data"
   ]
  },
  {
   "cell_type": "code",
   "execution_count": 39,
   "metadata": {},
   "outputs": [
    {
     "data": {
      "text/plain": [
       "array([[[[ 255.,  255.,  255., ...,  255.,  255.,  255.],\n",
       "         [ 255.,  255.,  255., ...,  255.,  255.,  255.],\n",
       "         [ 255.,  255.,  255., ...,  255.,  255.,  255.],\n",
       "         ..., \n",
       "         [  51.,   24.,   44., ...,  255.,  255.,  255.],\n",
       "         [  61.,   39.,   25., ...,  255.,  255.,  255.],\n",
       "         [  57.,   63.,   41., ...,  255.,  255.,  255.]],\n",
       "\n",
       "        [[ 255.,  255.,  255., ...,  255.,  255.,  255.],\n",
       "         [ 255.,  255.,  255., ...,  255.,  255.,  255.],\n",
       "         [ 255.,  255.,  255., ...,  255.,  255.,  255.],\n",
       "         ..., \n",
       "         [  51.,   24.,   44., ...,  255.,  255.,  255.],\n",
       "         [  61.,   39.,   25., ...,  255.,  255.,  255.],\n",
       "         [  57.,   63.,   41., ...,  255.,  255.,  255.]],\n",
       "\n",
       "        [[ 255.,  255.,  255., ...,  255.,  255.,  255.],\n",
       "         [ 255.,  255.,  255., ...,  255.,  255.,  255.],\n",
       "         [ 255.,  255.,  255., ...,  255.,  255.,  255.],\n",
       "         ..., \n",
       "         [  51.,   24.,   44., ...,  255.,  255.,  255.],\n",
       "         [  61.,   39.,   25., ...,  255.,  255.,  255.],\n",
       "         [  57.,   63.,   41., ...,  255.,  255.,  255.]]],\n",
       "\n",
       "\n",
       "       [[[ 222.,  224.,  226., ...,  250.,  250.,  251.],\n",
       "         [ 223.,  225.,  227., ...,  248.,  249.,  250.],\n",
       "         [ 225.,  226.,  227., ...,  248.,  248.,  249.],\n",
       "         ..., \n",
       "         [ 250.,  250.,  249., ...,  254.,  254.,  253.],\n",
       "         [ 249.,  249.,  248., ...,  255.,  254.,  253.],\n",
       "         [ 249.,  248.,  247., ...,  255.,  254.,  253.]],\n",
       "\n",
       "        [[ 219.,  221.,  223., ...,  245.,  245.,  246.],\n",
       "         [ 220.,  222.,  224., ...,  243.,  244.,  245.],\n",
       "         [ 223.,  224.,  225., ...,  243.,  243.,  244.],\n",
       "         ..., \n",
       "         [ 231.,  231.,  230., ...,  242.,  242.,  241.],\n",
       "         [ 230.,  230.,  229., ...,  243.,  242.,  241.],\n",
       "         [ 230.,  229.,  228., ...,  243.,  242.,  241.]],\n",
       "\n",
       "        [[ 228.,  230.,  232., ...,  252.,  252.,  253.],\n",
       "         [ 227.,  229.,  231., ...,  250.,  251.,  252.],\n",
       "         [ 228.,  229.,  230., ...,  250.,  250.,  251.],\n",
       "         ..., \n",
       "         [ 235.,  235.,  234., ...,  244.,  244.,  243.],\n",
       "         [ 234.,  234.,  233., ...,  245.,  244.,  243.],\n",
       "         [ 234.,  233.,  232., ...,  245.,  244.,  243.]]],\n",
       "\n",
       "\n",
       "       [[[ 255.,  255.,  255., ...,  255.,  255.,  255.],\n",
       "         [ 255.,  255.,  255., ...,  255.,  255.,  255.],\n",
       "         [ 255.,  255.,  255., ...,  255.,  255.,  255.],\n",
       "         ..., \n",
       "         [ 255.,  255.,  255., ...,  255.,  255.,  255.],\n",
       "         [ 255.,  255.,  255., ...,  255.,  255.,  255.],\n",
       "         [ 255.,  255.,  255., ...,  255.,  255.,  255.]],\n",
       "\n",
       "        [[ 255.,  255.,  255., ...,  255.,  255.,  255.],\n",
       "         [ 255.,  255.,  255., ...,  255.,  255.,  255.],\n",
       "         [ 255.,  255.,  255., ...,  255.,  255.,  255.],\n",
       "         ..., \n",
       "         [ 255.,  255.,  255., ...,  255.,  255.,  255.],\n",
       "         [ 255.,  255.,  255., ...,  255.,  255.,  255.],\n",
       "         [ 255.,  255.,  255., ...,  255.,  255.,  255.]],\n",
       "\n",
       "        [[ 255.,  255.,  255., ...,  255.,  255.,  255.],\n",
       "         [ 255.,  255.,  255., ...,  255.,  255.,  255.],\n",
       "         [ 255.,  255.,  255., ...,  255.,  255.,  255.],\n",
       "         ..., \n",
       "         [ 255.,  255.,  255., ...,  255.,  255.,  255.],\n",
       "         [ 255.,  255.,  255., ...,  255.,  255.,  255.],\n",
       "         [ 255.,  255.,  255., ...,  255.,  255.,  255.]]],\n",
       "\n",
       "\n",
       "       [[[ 245.,  245.,  245., ...,  252.,  252.,  252.],\n",
       "         [ 246.,  246.,  247., ...,  252.,  252.,  252.],\n",
       "         [ 249.,  249.,  249., ...,  254.,  252.,  252.],\n",
       "         ..., \n",
       "         [ 239.,  240.,  242., ...,  241.,  241.,  241.],\n",
       "         [ 240.,  240.,  242., ...,  242.,  242.,  242.],\n",
       "         [ 240.,  241.,  242., ...,  242.,  242.,  242.]],\n",
       "\n",
       "        [[ 229.,  229.,  229., ...,  217.,  217.,  217.],\n",
       "         [ 230.,  230.,  231., ...,  217.,  217.,  217.],\n",
       "         [ 233.,  233.,  233., ...,  217.,  217.,  217.],\n",
       "         ..., \n",
       "         [ 224.,  224.,  224., ...,  193.,  193.,  193.],\n",
       "         [ 225.,  225.,  225., ...,  194.,  194.,  194.],\n",
       "         [ 225.,  225.,  225., ...,  194.,  194.,  194.]],\n",
       "\n",
       "        [[ 169.,  169.,  169., ...,  149.,  149.,  149.],\n",
       "         [ 170.,  170.,  171., ...,  149.,  149.,  149.],\n",
       "         [ 173.,  173.,  173., ...,  149.,  149.,  149.],\n",
       "         ..., \n",
       "         [ 159.,  159.,  160., ...,  119.,  119.,  119.],\n",
       "         [ 160.,  160.,  161., ...,  120.,  120.,  120.],\n",
       "         [ 160.,  160.,  161., ...,  120.,  120.,  120.]]]], dtype=float32)"
      ]
     },
     "execution_count": 39,
     "metadata": {},
     "output_type": "execute_result"
    }
   ],
   "source": [
    "data[0].asnumpy()"
   ]
  },
  {
   "cell_type": "code",
   "execution_count": null,
   "metadata": {
    "collapsed": true
   },
   "outputs": [],
   "source": []
  }
 ],
 "metadata": {
  "anaconda-cloud": {},
  "kernelspec": {
   "display_name": "Python [conda env:dl3]",
   "language": "python",
   "name": "conda-env-dl3-py"
  },
  "language_info": {
   "codemirror_mode": {
    "name": "ipython",
    "version": 3
   },
   "file_extension": ".py",
   "mimetype": "text/x-python",
   "name": "python",
   "nbconvert_exporter": "python",
   "pygments_lexer": "ipython3",
   "version": "3.5.3"
  }
 },
 "nbformat": 4,
 "nbformat_minor": 2
}
